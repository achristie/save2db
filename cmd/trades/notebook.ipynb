{
 "cells": [
  {
   "cell_type": "code",
   "execution_count": 128,
   "metadata": {},
   "outputs": [],
   "source": [
    "import pandas as pd\n",
    "import sqlalchemy\n",
    "import matplotlib.pyplot as plt\n",
    "import ipywidgets as widgets\n",
    "from IPython.display import display, clear_output\n",
    "import math"
   ]
  },
  {
   "cell_type": "code",
   "execution_count": 74,
   "metadata": {},
   "outputs": [],
   "source": [
    "dbEngine = sqlalchemy.create_engine('sqlite:///../../database.db')"
   ]
  },
  {
   "cell_type": "code",
   "execution_count": 75,
   "metadata": {},
   "outputs": [],
   "source": [
    "buyer_df = pd.read_sql(f\"\"\"\n",
    "SELECT\n",
    "  buyer, count(*)\n",
    "FROM\n",
    "  trades\n",
    "WHERE \n",
    "  order_state = \"consummated\"\n",
    "  AND order_date >= datetime('now', '-1 month')\n",
    "GROUP BY\n",
    "  buyer\n",
    "\"\"\", dbEngine)"
   ]
  },
  {
   "cell_type": "code",
   "execution_count": 133,
   "metadata": {},
   "outputs": [],
   "source": [
    "def get_df(buyer):\n",
    "  return pd.read_sql(f\"\"\"\n",
    "    SELECT\n",
    "      order_time, product, price, price_unit, lot_unit\n",
    "    FROM\n",
    "      trades\n",
    "    WHERE \n",
    "      order_state = \"consummated\"\n",
    "      AND buyer = '{buyer}'\n",
    "      AND order_time >= datetime('now', '-3 month')\n",
    "    \"\"\", dbEngine, parse_dates=['order_time'])\n",
    "\n",
    "def get_chart(buyer):\n",
    "  df = get_df(buyer)\n",
    "  nr = math.ceil(len(df.groupby(\"product\"))/3)\n",
    "  fig, axes = plt.subplots(nrows=nr, ncols=3, sharex=True, sharey=False, figsize=(14, nr*2.2))\n",
    "  al = [i for j in axes for i in j] if nr > 1 else list(axes)\n",
    "  for group, row in df.groupby(\"product\"):\n",
    "    ax = al.pop(0)\n",
    "    row.plot(x=\"order_time\", y=\"price\", ax=ax, label=group, legend=False)\n",
    "    ax.set_title(group)\n",
    "\n",
    "  plt.tight_layout()\n",
    "  for ax in al:\n",
    "    ax.remove()\n",
    "  return fig"
   ]
  },
  {
   "cell_type": "code",
   "execution_count": 132,
   "metadata": {},
   "outputs": [
    {
     "data": {
      "application/vnd.jupyter.widget-view+json": {
       "model_id": "0c58644d59064f3981d2c8cee9136137",
       "version_major": 2,
       "version_minor": 0
      },
      "text/plain": [
       "VBox(children=(Dropdown(description='Buyer:', options=('ADNOC GLOBAL TRADING LTD', 'AMPOL Singapore Trading Pt…"
      ]
     },
     "metadata": {},
     "output_type": "display_data"
    }
   ],
   "source": [
    "buyer = widgets.Dropdown(\n",
    "  options=buyer_df['buyer'].to_list(),\n",
    "  description='Buyer:',\n",
    ")\n",
    "out = widgets.Output()\n",
    "vbox = widgets.VBox(children=(buyer, out))\n",
    "def handle_buyer(change):\n",
    "  with out:\n",
    "    clear_output(wait=True)\n",
    "    display(get_chart(change['new']))\n",
    "    \n",
    "buyer.observe(handle_buyer, names='value')\n",
    "display(vbox)"
   ]
  },
  {
   "cell_type": "code",
   "execution_count": 126,
   "metadata": {},
   "outputs": [
    {
     "data": {
      "text/html": [
       "<div>\n",
       "<style scoped>\n",
       "    .dataframe tbody tr th:only-of-type {\n",
       "        vertical-align: middle;\n",
       "    }\n",
       "\n",
       "    .dataframe tbody tr th {\n",
       "        vertical-align: top;\n",
       "    }\n",
       "\n",
       "    .dataframe thead th {\n",
       "        text-align: right;\n",
       "    }\n",
       "</style>\n",
       "<table border=\"1\" class=\"dataframe\">\n",
       "  <thead>\n",
       "    <tr style=\"text-align: right;\">\n",
       "      <th></th>\n",
       "      <th>order_time</th>\n",
       "      <th>price</th>\n",
       "      <th>price_unit</th>\n",
       "      <th>lot_unit</th>\n",
       "    </tr>\n",
       "    <tr>\n",
       "      <th>product</th>\n",
       "      <th></th>\n",
       "      <th></th>\n",
       "      <th></th>\n",
       "      <th></th>\n",
       "    </tr>\n",
       "  </thead>\n",
       "  <tbody>\n",
       "    <tr>\n",
       "      <th>Platts GO</th>\n",
       "      <td>42</td>\n",
       "      <td>42</td>\n",
       "      <td>42</td>\n",
       "      <td>42</td>\n",
       "    </tr>\n",
       "    <tr>\n",
       "      <th>Platts GO (balmo)</th>\n",
       "      <td>3</td>\n",
       "      <td>3</td>\n",
       "      <td>3</td>\n",
       "      <td>3</td>\n",
       "    </tr>\n",
       "    <tr>\n",
       "      <th>Platts GO 10ppm - AG</th>\n",
       "      <td>1</td>\n",
       "      <td>1</td>\n",
       "      <td>1</td>\n",
       "      <td>1</td>\n",
       "    </tr>\n",
       "    <tr>\n",
       "      <th>Platts GO Spr</th>\n",
       "      <td>2</td>\n",
       "      <td>2</td>\n",
       "      <td>2</td>\n",
       "      <td>2</td>\n",
       "    </tr>\n",
       "    <tr>\n",
       "      <th>Platts HSFO 380cst</th>\n",
       "      <td>12</td>\n",
       "      <td>12</td>\n",
       "      <td>12</td>\n",
       "      <td>12</td>\n",
       "    </tr>\n",
       "    <tr>\n",
       "      <th>Platts Jet</th>\n",
       "      <td>16</td>\n",
       "      <td>16</td>\n",
       "      <td>16</td>\n",
       "      <td>16</td>\n",
       "    </tr>\n",
       "    <tr>\n",
       "      <th>Platts Jet (balmo)</th>\n",
       "      <td>10</td>\n",
       "      <td>10</td>\n",
       "      <td>10</td>\n",
       "      <td>10</td>\n",
       "    </tr>\n",
       "    <tr>\n",
       "      <th>Platts Jet Spr</th>\n",
       "      <td>13</td>\n",
       "      <td>13</td>\n",
       "      <td>13</td>\n",
       "      <td>13</td>\n",
       "    </tr>\n",
       "    <tr>\n",
       "      <th>Platts MTBE 3kt</th>\n",
       "      <td>4</td>\n",
       "      <td>4</td>\n",
       "      <td>4</td>\n",
       "      <td>4</td>\n",
       "    </tr>\n",
       "    <tr>\n",
       "      <th>Platts Reg</th>\n",
       "      <td>4</td>\n",
       "      <td>4</td>\n",
       "      <td>4</td>\n",
       "      <td>4</td>\n",
       "    </tr>\n",
       "  </tbody>\n",
       "</table>\n",
       "</div>"
      ],
      "text/plain": [
       "                      order_time  price  price_unit  lot_unit\n",
       "product                                                      \n",
       "Platts GO                     42     42          42        42\n",
       "Platts GO (balmo)              3      3           3         3\n",
       "Platts GO 10ppm - AG           1      1           1         1\n",
       "Platts GO Spr                  2      2           2         2\n",
       "Platts HSFO 380cst            12     12          12        12\n",
       "Platts Jet                    16     16          16        16\n",
       "Platts Jet (balmo)            10     10          10        10\n",
       "Platts Jet Spr                13     13          13        13\n",
       "Platts MTBE 3kt                4      4           4         4\n",
       "Platts Reg                     4      4           4         4"
      ]
     },
     "execution_count": 126,
     "metadata": {},
     "output_type": "execute_result"
    }
   ],
   "source": [
    "get_df(\"Aramco Trading Singapore Pte Ltd\").groupby('product').count()"
   ]
  },
  {
   "cell_type": "code",
   "execution_count": null,
   "metadata": {},
   "outputs": [],
   "source": []
  }
 ],
 "metadata": {
  "interpreter": {
   "hash": "b0fa6594d8f4cbf19f97940f81e996739fb7646882a419484c72d19e05852a7e"
  },
  "kernelspec": {
   "display_name": "Python 3.9.13 64-bit",
   "language": "python",
   "name": "python3"
  },
  "language_info": {
   "codemirror_mode": {
    "name": "ipython",
    "version": 3
   },
   "file_extension": ".py",
   "mimetype": "text/x-python",
   "name": "python",
   "nbconvert_exporter": "python",
   "pygments_lexer": "ipython3",
   "version": "3.9.13"
  },
  "orig_nbformat": 4
 },
 "nbformat": 4,
 "nbformat_minor": 2
}
